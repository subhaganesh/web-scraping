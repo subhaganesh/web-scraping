{
 "cells": [
  {
   "cell_type": "code",
   "execution_count": 31,
   "id": "c76b6f10",
   "metadata": {},
   "outputs": [],
   "source": [
    "import pandas as pd\n",
    "import os"
   ]
  },
  {
   "cell_type": "code",
   "execution_count": 2,
   "id": "644f0522",
   "metadata": {},
   "outputs": [
    {
     "data": {
      "text/plain": [
       "'texas'"
      ]
     },
     "execution_count": 2,
     "metadata": {},
     "output_type": "execute_result"
    }
   ],
   "source": [
    "states=['california','texas','florida','new york']\n",
    "states[-4]\n",
    "states[1]"
   ]
  },
  {
   "cell_type": "code",
   "execution_count": 21,
   "id": "f564058c",
   "metadata": {},
   "outputs": [
    {
     "name": "stdout",
     "output_type": "stream",
     "text": [
      "['california', 'texas', 'florida', 'new york']\n",
      "['california', 'texas', 'florida', 'new york']\n",
      "['california', 'texas', 'florida', 'new york']\n",
      "['california', 'texas', 'florida', 'new york']\n"
     ]
    }
   ],
   "source": [
    "states=['california','texas','florida','new york']\n",
    "for i in states:\n",
    "    print(states)"
   ]
  },
  {
   "cell_type": "code",
   "execution_count": 26,
   "id": "fb8b9512",
   "metadata": {},
   "outputs": [],
   "source": [
    "for i in states:\n",
    "    if states == 'florida':\n",
    "        print(states)        "
   ]
  },
  {
   "cell_type": "code",
   "execution_count": 20,
   "id": "7cf75fda",
   "metadata": {},
   "outputs": [],
   "source": [
    "with open('test.txt','w') as file:\n",
    "    file.write('data successfully scraped!')"
   ]
  },
  {
   "cell_type": "code",
   "execution_count": 27,
   "id": "83a7d04b",
   "metadata": {},
   "outputs": [
    {
     "data": {
      "text/plain": [
       "{'states': ['california', 'texas', 'florida', 'new york'],\n",
       " 'population': [4567, 7896, 7543, 9809]}"
      ]
     },
     "execution_count": 27,
     "metadata": {},
     "output_type": "execute_result"
    }
   ],
   "source": [
    "population=[4567,7896,7543,9809]\n",
    "dict_states={'states':states,'population':population}\n",
    "dict_states"
   ]
  },
  {
   "cell_type": "code",
   "execution_count": 34,
   "id": "bd03d447",
   "metadata": {},
   "outputs": [
    {
     "data": {
      "text/html": [
       "<div>\n",
       "<style scoped>\n",
       "    .dataframe tbody tr th:only-of-type {\n",
       "        vertical-align: middle;\n",
       "    }\n",
       "\n",
       "    .dataframe tbody tr th {\n",
       "        vertical-align: top;\n",
       "    }\n",
       "\n",
       "    .dataframe thead th {\n",
       "        text-align: right;\n",
       "    }\n",
       "</style>\n",
       "<table border=\"1\" class=\"dataframe\">\n",
       "  <thead>\n",
       "    <tr style=\"text-align: right;\">\n",
       "      <th></th>\n",
       "      <th>states</th>\n",
       "      <th>population</th>\n",
       "    </tr>\n",
       "  </thead>\n",
       "  <tbody>\n",
       "    <tr>\n",
       "      <th>0</th>\n",
       "      <td>california</td>\n",
       "      <td>4567</td>\n",
       "    </tr>\n",
       "    <tr>\n",
       "      <th>1</th>\n",
       "      <td>texas</td>\n",
       "      <td>7896</td>\n",
       "    </tr>\n",
       "    <tr>\n",
       "      <th>2</th>\n",
       "      <td>florida</td>\n",
       "      <td>7543</td>\n",
       "    </tr>\n",
       "    <tr>\n",
       "      <th>3</th>\n",
       "      <td>new york</td>\n",
       "      <td>9809</td>\n",
       "    </tr>\n",
       "  </tbody>\n",
       "</table>\n",
       "</div>"
      ],
      "text/plain": [
       "       states  population\n",
       "0  california        4567\n",
       "1       texas        7896\n",
       "2     florida        7543\n",
       "3    new york        9809"
      ]
     },
     "execution_count": 34,
     "metadata": {},
     "output_type": "execute_result"
    }
   ],
   "source": [
    "df_states=pd.DataFrame.from_dict(dict_states)\n",
    "df_states"
   ]
  },
  {
   "cell_type": "code",
   "execution_count": 36,
   "id": "d70bff16",
   "metadata": {},
   "outputs": [],
   "source": [
    "df_states.to_csv('states.csv')"
   ]
  },
  {
   "cell_type": "raw",
   "id": "b64a841b",
   "metadata": {},
   "source": [
    "handling exception errors:try-except"
   ]
  },
  {
   "cell_type": "code",
   "execution_count": 39,
   "id": "a348c89f",
   "metadata": {},
   "outputs": [
    {
     "name": "stdout",
     "output_type": "stream",
     "text": [
      "1.0\n",
      "1.5\n",
      "3.0\n",
      "this element  is not a number\n"
     ]
    }
   ],
   "source": [
    "new_list=[2,3,6,'new']\n",
    "for i in new_list:\n",
    "    try:\n",
    "        print(i/2)\n",
    "    except:\n",
    "        print('this element  is not a number')"
   ]
  },
  {
   "cell_type": "code",
   "execution_count": 41,
   "id": "6ae89e2b",
   "metadata": {},
   "outputs": [
    {
     "name": "stdout",
     "output_type": "stream",
     "text": [
      "4\n",
      "3\n",
      "2\n",
      "1\n"
     ]
    }
   ],
   "source": [
    "#while loop\n",
    "n=4\n",
    "while n>0:\n",
    "    print(n)\n",
    "    n=n-1"
   ]
  },
  {
   "cell_type": "code",
   "execution_count": 42,
   "id": "e93221b0",
   "metadata": {},
   "outputs": [
    {
     "name": "stdout",
     "output_type": "stream",
     "text": [
      "4\n",
      "3\n"
     ]
    }
   ],
   "source": [
    "n=4\n",
    "while n>0:\n",
    "    print(n)\n",
    "    n=n-1\n",
    "    if n==2:\n",
    "        break"
   ]
  },
  {
   "cell_type": "code",
   "execution_count": null,
   "id": "e88bd1c5",
   "metadata": {},
   "outputs": [],
   "source": []
  }
 ],
 "metadata": {
  "kernelspec": {
   "display_name": "Python 3 (ipykernel)",
   "language": "python",
   "name": "python3"
  },
  "language_info": {
   "codemirror_mode": {
    "name": "ipython",
    "version": 3
   },
   "file_extension": ".py",
   "mimetype": "text/x-python",
   "name": "python",
   "nbconvert_exporter": "python",
   "pygments_lexer": "ipython3",
   "version": "3.9.7"
  }
 },
 "nbformat": 4,
 "nbformat_minor": 5
}
