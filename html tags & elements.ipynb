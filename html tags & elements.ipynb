{
 "cells": [
  {
   "cell_type": "raw",
   "id": "5b30e2a1",
   "metadata": {},
   "source": [
    "html= hyper text markup language"
   ]
  },
  {
   "cell_type": "raw",
   "id": "d2ee1385",
   "metadata": {},
   "source": [
    "    html markup syntax\n",
    "<h1 class=\"title\"> titanic(1997) </h1>\n",
    "\n",
    "<h1          --tag name\n",
    "class        --attribute name\n",
    "\"title\"      --attribute value\n",
    "titanic(1997)--affected content\n",
    "</h1>        --end tag\n",
    "      all these are html element\n",
    "    \n",
    "    tags\n",
    "<head>\n",
    "<body>\n",
    "<header>\n",
    "<article>\n",
    "<p>             --paragraph\n",
    "<h1>,<h2>,<h3>  -- heading\n",
    "<div>           --divider\n",
    "<nav>           --navigational\n",
    "<li>            --list item\n",
    "<a>             --anchor\n",
    "<button>\n",
    "<table>\n",
    "<td>\n",
    "<tr>\n",
    "<ul>\n",
    "<iframe>       --this will be tricky we want to check  our website was built in a single eye frame or double eye frame"
   ]
  },
  {
   "cell_type": "code",
   "execution_count": null,
   "id": "a528f66a",
   "metadata": {},
   "outputs": [],
   "source": [
    "its recommended to find elements in this order \n",
    "id\n",
    "class name\n",
    "tag name ,css selector\n",
    "xpath"
   ]
  }
 ],
 "metadata": {
  "kernelspec": {
   "display_name": "Python 3 (ipykernel)",
   "language": "python",
   "name": "python3"
  },
  "language_info": {
   "codemirror_mode": {
    "name": "ipython",
    "version": 3
   },
   "file_extension": ".py",
   "mimetype": "text/x-python",
   "name": "python",
   "nbconvert_exporter": "python",
   "pygments_lexer": "ipython3",
   "version": "3.9.7"
  }
 },
 "nbformat": 4,
 "nbformat_minor": 5
}
